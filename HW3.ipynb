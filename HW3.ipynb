{
 "cells": [
  {
   "cell_type": "code",
   "execution_count": 123,
   "metadata": {
    "collapsed": true
   },
   "outputs": [],
   "source": [
    "# coding: utf-8\n",
    "# # data processing"
   ]
  },
  {
   "cell_type": "code",
   "execution_count": 124,
   "metadata": {
    "collapsed": true
   },
   "outputs": [],
   "source": [
    "import pandas as pd"
   ]
  },
  {
   "cell_type": "code",
   "execution_count": 125,
   "metadata": {
    "collapsed": true
   },
   "outputs": [],
   "source": [
    "def loadData(datapath):\n",
    "    # load data並進行 filter 只保留下面兩種格式的資料，其他有缺項的一律不考慮\n",
    "    # 第一欄皆為 'M' 是個沒必要的feature故拿掉\n",
    "    # {0 M,2 Gold,3 85,4 80000}\n",
    "    # {0 M,       3 49,4 40000}\n",
    "    with open (datapath,'r') as f:\n",
    "        lines = f.readlines()\n",
    "        filterL = []\n",
    "        for line in lines:\n",
    "            tfL = line.split()\n",
    "            try:\n",
    "                # feature:0\n",
    "                tf0 = tfL[1].split(',')\n",
    "                # feature:1\n",
    "                tf1 = tfL[2].split(',')\n",
    "                # feature:2\n",
    "                tf2 = tfL[3].split(',')\n",
    "                # feature:3\n",
    "                tf3 = tfL[4].split(',')\n",
    "                # feature:4\n",
    "                tf4 = tfL[5].replace('}', '')\n",
    "                if tf0[1]=='1' and tf1[1]=='2' and tf2[1]=='3' and tf3[1]=='4':\n",
    "                    filterL.append([float(tf1[0]),tf2[0],float(tf3[0]),float(tf4)])\n",
    "            except :\n",
    "                pass\n",
    "\n",
    "            try:\n",
    "                # feature:0\n",
    "                tf0 = tfL[1].split(',')\n",
    "                # feature:1\n",
    "                tf1 = tfL[2].split(',')\n",
    "                # feature:3\n",
    "                tf2 = tfL[3].split(',')\n",
    "                # feature:4\n",
    "                tf3 = tfL[4].replace('}', '')\n",
    "                if tf0[1]=='1' and tf1[1]=='3' and tf2[1]=='4':\n",
    "                    filterL.append([float(tf1[0]),'Basic',float(tf2[0]),float(tf3)])\n",
    "            except :\n",
    "                pass\n",
    "    return filterL"
   ]
  },
  {
   "cell_type": "code",
   "execution_count": 126,
   "metadata": {
    "collapsed": false
   },
   "outputs": [],
   "source": [
    "datapath = '/Users/user/training'\n",
    "filterL =  loadData(datapath)"
   ]
  },
  {
   "cell_type": "code",
   "execution_count": 127,
   "metadata": {
    "collapsed": false
   },
   "outputs": [
    {
     "data": {
      "text/plain": [
       "[[1.0, 'Gold', 90.0, 20000.0],\n",
       " [2.0, 'Silver', 58.0, 40000.0],\n",
       " [1.0, 'Basic', 51.0, 60000.0],\n",
       " [2.0, 'Basic', 21.0, 80000.0],\n",
       " [3.0, 'Gold', 51.0, 100000.0],\n",
       " [1.0, 'Basic', 88.0, 60000.0],\n",
       " [1.0, 'Normal', 59.0, 20000.0],\n",
       " [1.0, 'Basic', 26.0, 40000.0],\n",
       " [1.0, 'Silver', 82.0, 40000.0],\n",
       " [2.0, 'Silver', 53.0, 40000.0],\n",
       " [2.0, 'Basic', 63.0, 120000.0],\n",
       " [1.0, 'Basic', 83.0, 40000.0],\n",
       " [2.0, 'Basic', 81.0, 80000.0],\n",
       " [1.0, 'Basic', 35.0, 40000.0],\n",
       " [4.0, 'Basic', 84.0, 100000.0],\n",
       " [4.0, 'Gold', 45.0, 40000.0],\n",
       " [2.0, 'Basic', 88.0, 40000.0],\n",
       " [3.0, 'Gold', 68.0, 80000.0],\n",
       " [2.0, 'Basic', 65.0, 120000.0],\n",
       " [2.0, 'Normal', 40.0, 60000.0],\n",
       " [2.0, 'Basic', 44.0, 60000.0],\n",
       " [4.0, 'Gold', 58.0, 40000.0],\n",
       " [1.0, 'Basic', 55.0, 60000.0],\n",
       " [1.0, 'Silver', 68.0, 40000.0],\n",
       " [3.0, 'Gold', 60.0, 80000.0],\n",
       " [2.0, 'Gold', 75.0, 40000.0],\n",
       " [1.0, 'Basic', 87.0, 60000.0],\n",
       " [1.0, 'Basic', 54.0, 60000.0],\n",
       " [4.0, 'Gold', 59.0, 120000.0],\n",
       " [1.0, 'Silver', 68.0, 60000.0],\n",
       " [2.0, 'Normal', 54.0, 40000.0],\n",
       " [2.0, 'Basic', 51.0, 120000.0],\n",
       " [1.0, 'Gold', 57.0, 140000.0],\n",
       " [1.0, 'Basic', 24.0, 40000.0],\n",
       " [4.0, 'Basic', 66.0, 140000.0],\n",
       " [2.0, 'Basic', 70.0, 120000.0],\n",
       " [3.0, 'Gold', 66.0, 60000.0],\n",
       " [1.0, 'Basic', 67.0, 80000.0],\n",
       " [5.0, 'Gold', 21.0, 40000.0],\n",
       " [1.0, 'Basic', 69.0, 20000.0],\n",
       " [1.0, 'Basic', 58.0, 80000.0],\n",
       " [3.0, 'Gold', 52.0, 160000.0],\n",
       " [4.0, 'Gold', 43.0, 40000.0],\n",
       " [1.0, 'Basic', 36.0, 140000.0],\n",
       " [1.0, 'Silver', 70.0, 40000.0],\n",
       " [1.0, 'Silver', 68.0, 60000.0],\n",
       " [3.0, 'Silver', 44.0, 140000.0],\n",
       " [2.0, 'Basic', 75.0, 40000.0],\n",
       " [1.0, 'Gold', 61.0, 60000.0],\n",
       " [1.0, 'Basic', 42.0, 60000.0],\n",
       " [1.0, 'Normal', 25.0, 20000.0],\n",
       " [1.0, 'Basic', 40.0, 140000.0],\n",
       " [4.0, 'Silver', 83.0, 60000.0],\n",
       " [1.0, 'Basic', 36.0, 40000.0],\n",
       " [2.0, 'Basic', 71.0, 40000.0],\n",
       " [1.0, 'Normal', 47.0, 120000.0],\n",
       " [2.0, 'Normal', 90.0, 20000.0],\n",
       " [1.0, 'Basic', 67.0, 80000.0],\n",
       " [2.0, 'Normal', 37.0, 20000.0],\n",
       " [1.0, 'Basic', 37.0, 80000.0],\n",
       " [3.0, 'Basic', 55.0, 80000.0],\n",
       " [1.0, 'Basic', 41.0, 60000.0],\n",
       " [1.0, 'Basic', 81.0, 80000.0],\n",
       " [1.0, 'Gold', 34.0, 80000.0],\n",
       " [1.0, 'Normal', 61.0, 20000.0],\n",
       " [3.0, 'Gold', 23.0, 80000.0],\n",
       " [2.0, 'Normal', 54.0, 160000.0],\n",
       " [2.0, 'Normal', 32.0, 60000.0],\n",
       " [1.0, 'Normal', 62.0, 80000.0],\n",
       " [2.0, 'Basic', 84.0, 120000.0],\n",
       " [1.0, 'Basic', 40.0, 60000.0],\n",
       " [3.0, 'Gold', 25.0, 80000.0],\n",
       " [3.0, 'Gold', 81.0, 40000.0],\n",
       " [1.0, 'Silver', 34.0, 140000.0],\n",
       " [2.0, 'Gold', 31.0, 60000.0],\n",
       " [2.0, 'Normal', 76.0, 20000.0],\n",
       " [1.0, 'Gold', 23.0, 40000.0],\n",
       " [2.0, 'Basic', 49.0, 40000.0],\n",
       " [3.0, 'Gold', 76.0, 60000.0],\n",
       " [3.0, 'Gold', 63.0, 60000.0],\n",
       " [2.0, 'Basic', 77.0, 60000.0],\n",
       " [1.0, 'Silver', 20.0, 40000.0],\n",
       " [3.0, 'Basic', 34.0, 60000.0],\n",
       " [1.0, 'Basic', 26.0, 40000.0],\n",
       " [3.0, 'Gold', 72.0, 40000.0],\n",
       " [1.0, 'Basic', 58.0, 40000.0],\n",
       " [1.0, 'Basic', 20.0, 40000.0],\n",
       " [1.0, 'Silver', 76.0, 140000.0],\n",
       " [3.0, 'Gold', 25.0, 60000.0],\n",
       " [2.0, 'Basic', 23.0, 60000.0],\n",
       " [2.0, 'Basic', 53.0, 40000.0],\n",
       " [2.0, 'Basic', 33.0, 120000.0],\n",
       " [2.0, 'Basic', 28.0, 40000.0],\n",
       " [1.0, 'Gold', 20.0, 80000.0],\n",
       " [4.0, 'Basic', 86.0, 60000.0],\n",
       " [1.0, 'Normal', 87.0, 20000.0],\n",
       " [3.0, 'Gold', 26.0, 40000.0],\n",
       " [3.0, 'Gold', 87.0, 60000.0],\n",
       " [2.0, 'Basic', 32.0, 60000.0],\n",
       " [5.0, 'Gold', 86.0, 160000.0],\n",
       " [1.0, 'Basic', 59.0, 60000.0],\n",
       " [1.0, 'Basic', 78.0, 40000.0],\n",
       " [1.0, 'Basic', 77.0, 40000.0],\n",
       " [1.0, 'Basic', 31.0, 120000.0],\n",
       " [1.0, 'Basic', 20.0, 120000.0],\n",
       " [2.0, 'Gold', 80.0, 40000.0],\n",
       " [1.0, 'Basic', 44.0, 120000.0],\n",
       " [1.0, 'Basic', 66.0, 60000.0],\n",
       " [1.0, 'Normal', 67.0, 20000.0],\n",
       " [3.0, 'Gold', 64.0, 60000.0],\n",
       " [2.0, 'Basic', 39.0, 40000.0],\n",
       " [1.0, 'Basic', 51.0, 60000.0],\n",
       " [1.0, 'Basic', 87.0, 40000.0],\n",
       " [1.0, 'Basic', 63.0, 40000.0],\n",
       " [1.0, 'Basic', 67.0, 60000.0],\n",
       " [1.0, 'Normal', 35.0, 60000.0],\n",
       " [1.0, 'Normal', 32.0, 20000.0],\n",
       " [1.0, 'Silver', 24.0, 80000.0],\n",
       " [1.0, 'Basic', 54.0, 40000.0],\n",
       " [1.0, 'Basic', 34.0, 100000.0],\n",
       " [1.0, 'Basic', 54.0, 140000.0],\n",
       " [2.0, 'Basic', 80.0, 40000.0],\n",
       " [1.0, 'Gold', 47.0, 120000.0],\n",
       " [1.0, 'Basic', 52.0, 40000.0],\n",
       " [1.0, 'Normal', 35.0, 20000.0],\n",
       " [3.0, 'Silver', 52.0, 60000.0],\n",
       " [2.0, 'Normal', 32.0, 20000.0],\n",
       " [1.0, 'Normal', 38.0, 60000.0],\n",
       " [3.0, 'Gold', 61.0, 80000.0],\n",
       " [1.0, 'Basic', 64.0, 140000.0],\n",
       " [1.0, 'Silver', 37.0, 80000.0],\n",
       " [2.0, 'Basic', 23.0, 60000.0],\n",
       " [4.0, 'Gold', 59.0, 40000.0],\n",
       " [1.0, 'Gold', 79.0, 80000.0],\n",
       " [1.0, 'Gold', 73.0, 160000.0],\n",
       " [2.0, 'Basic', 30.0, 120000.0],\n",
       " [2.0, 'Normal', 43.0, 20000.0],\n",
       " [1.0, 'Silver', 43.0, 100000.0],\n",
       " [4.0, 'Gold', 66.0, 40000.0],\n",
       " [1.0, 'Basic', 46.0, 40000.0],\n",
       " [1.0, 'Gold', 75.0, 60000.0],\n",
       " [1.0, 'Gold', 34.0, 40000.0],\n",
       " [1.0, 'Gold', 59.0, 120000.0],\n",
       " [5.0, 'Gold', 29.0, 40000.0],\n",
       " [1.0, 'Basic', 73.0, 60000.0],\n",
       " [2.0, 'Basic', 80.0, 40000.0],\n",
       " [1.0, 'Basic', 45.0, 60000.0],\n",
       " [1.0, 'Basic', 77.0, 40000.0],\n",
       " [3.0, 'Gold', 83.0, 40000.0],\n",
       " [1.0, 'Gold', 52.0, 80000.0],\n",
       " [1.0, 'Normal', 70.0, 20000.0],\n",
       " [1.0, 'Basic', 22.0, 140000.0],\n",
       " [1.0, 'Silver', 56.0, 40000.0],\n",
       " [2.0, 'Basic', 47.0, 40000.0],\n",
       " [3.0, 'Gold', 44.0, 160000.0],\n",
       " [2.0, 'Normal', 64.0, 20000.0],\n",
       " [3.0, 'Gold', 26.0, 40000.0],\n",
       " [1.0, 'Basic', 75.0, 80000.0],\n",
       " [2.0, 'Normal', 50.0, 20000.0],\n",
       " [3.0, 'Normal', 79.0, 20000.0],\n",
       " [3.0, 'Gold', 50.0, 60000.0],\n",
       " [3.0, 'Gold', 65.0, 40000.0],\n",
       " [3.0, 'Gold', 52.0, 80000.0],\n",
       " [2.0, 'Basic', 36.0, 40000.0],\n",
       " [1.0, 'Basic', 27.0, 80000.0],\n",
       " [2.0, 'Normal', 37.0, 80000.0],\n",
       " [1.0, 'Gold', 33.0, 40000.0],\n",
       " [1.0, 'Basic', 76.0, 140000.0],\n",
       " [1.0, 'Normal', 48.0, 20000.0],\n",
       " [3.0, 'Gold', 52.0, 40000.0],\n",
       " [3.0, 'Silver', 27.0, 40000.0]]"
      ]
     },
     "execution_count": 127,
     "metadata": {},
     "output_type": "execute_result"
    }
   ],
   "source": [
    "filterL"
   ]
  },
  {
   "cell_type": "code",
   "execution_count": 128,
   "metadata": {
    "collapsed": true
   },
   "outputs": [],
   "source": [
    "# rowname = ['marital_status','num_children_at_home','member_card','age','year_income']\n",
    "rowname = ['num_children_at_home','member_card','age','year_income']\n",
    "df = pd.DataFrame(filterL, columns=rowname)"
   ]
  },
  {
   "cell_type": "code",
   "execution_count": 129,
   "metadata": {
    "collapsed": false
   },
   "outputs": [
    {
     "data": {
      "text/html": [
       "<div>\n",
       "<table border=\"1\" class=\"dataframe\">\n",
       "  <thead>\n",
       "    <tr style=\"text-align: right;\">\n",
       "      <th></th>\n",
       "      <th>num_children_at_home</th>\n",
       "      <th>member_card</th>\n",
       "      <th>age</th>\n",
       "      <th>year_income</th>\n",
       "    </tr>\n",
       "  </thead>\n",
       "  <tbody>\n",
       "    <tr>\n",
       "      <th>0</th>\n",
       "      <td>1</td>\n",
       "      <td>Gold</td>\n",
       "      <td>90</td>\n",
       "      <td>20000</td>\n",
       "    </tr>\n",
       "    <tr>\n",
       "      <th>1</th>\n",
       "      <td>2</td>\n",
       "      <td>Silver</td>\n",
       "      <td>58</td>\n",
       "      <td>40000</td>\n",
       "    </tr>\n",
       "    <tr>\n",
       "      <th>2</th>\n",
       "      <td>1</td>\n",
       "      <td>Basic</td>\n",
       "      <td>51</td>\n",
       "      <td>60000</td>\n",
       "    </tr>\n",
       "    <tr>\n",
       "      <th>3</th>\n",
       "      <td>2</td>\n",
       "      <td>Basic</td>\n",
       "      <td>21</td>\n",
       "      <td>80000</td>\n",
       "    </tr>\n",
       "    <tr>\n",
       "      <th>4</th>\n",
       "      <td>3</td>\n",
       "      <td>Gold</td>\n",
       "      <td>51</td>\n",
       "      <td>100000</td>\n",
       "    </tr>\n",
       "    <tr>\n",
       "      <th>5</th>\n",
       "      <td>1</td>\n",
       "      <td>Basic</td>\n",
       "      <td>88</td>\n",
       "      <td>60000</td>\n",
       "    </tr>\n",
       "    <tr>\n",
       "      <th>6</th>\n",
       "      <td>1</td>\n",
       "      <td>Normal</td>\n",
       "      <td>59</td>\n",
       "      <td>20000</td>\n",
       "    </tr>\n",
       "    <tr>\n",
       "      <th>7</th>\n",
       "      <td>1</td>\n",
       "      <td>Basic</td>\n",
       "      <td>26</td>\n",
       "      <td>40000</td>\n",
       "    </tr>\n",
       "    <tr>\n",
       "      <th>8</th>\n",
       "      <td>1</td>\n",
       "      <td>Silver</td>\n",
       "      <td>82</td>\n",
       "      <td>40000</td>\n",
       "    </tr>\n",
       "    <tr>\n",
       "      <th>9</th>\n",
       "      <td>2</td>\n",
       "      <td>Silver</td>\n",
       "      <td>53</td>\n",
       "      <td>40000</td>\n",
       "    </tr>\n",
       "  </tbody>\n",
       "</table>\n",
       "</div>"
      ],
      "text/plain": [
       "   num_children_at_home member_card  age  year_income\n",
       "0                     1        Gold   90        20000\n",
       "1                     2      Silver   58        40000\n",
       "2                     1       Basic   51        60000\n",
       "3                     2       Basic   21        80000\n",
       "4                     3        Gold   51       100000\n",
       "5                     1       Basic   88        60000\n",
       "6                     1      Normal   59        20000\n",
       "7                     1       Basic   26        40000\n",
       "8                     1      Silver   82        40000\n",
       "9                     2      Silver   53        40000"
      ]
     },
     "execution_count": 129,
     "metadata": {},
     "output_type": "execute_result"
    }
   ],
   "source": [
    "# 簡單看一下 前10筆 data\n",
    "df.head(10)"
   ]
  },
  {
   "cell_type": "code",
   "execution_count": 130,
   "metadata": {
    "collapsed": false
   },
   "outputs": [
    {
     "data": {
      "text/html": [
       "<div>\n",
       "<table border=\"1\" class=\"dataframe\">\n",
       "  <thead>\n",
       "    <tr style=\"text-align: right;\">\n",
       "      <th></th>\n",
       "      <th>num_children_at_home</th>\n",
       "      <th>age</th>\n",
       "      <th>year_income</th>\n",
       "    </tr>\n",
       "  </thead>\n",
       "  <tbody>\n",
       "    <tr>\n",
       "      <th>count</th>\n",
       "      <td>171.000000</td>\n",
       "      <td>171.000000</td>\n",
       "      <td>171.000000</td>\n",
       "    </tr>\n",
       "    <tr>\n",
       "      <th>mean</th>\n",
       "      <td>1.830409</td>\n",
       "      <td>53.853801</td>\n",
       "      <td>65847.953216</td>\n",
       "    </tr>\n",
       "    <tr>\n",
       "      <th>std</th>\n",
       "      <td>1.023494</td>\n",
       "      <td>19.935683</td>\n",
       "      <td>37049.414283</td>\n",
       "    </tr>\n",
       "    <tr>\n",
       "      <th>min</th>\n",
       "      <td>1.000000</td>\n",
       "      <td>20.000000</td>\n",
       "      <td>20000.000000</td>\n",
       "    </tr>\n",
       "    <tr>\n",
       "      <th>25%</th>\n",
       "      <td>1.000000</td>\n",
       "      <td>36.000000</td>\n",
       "      <td>40000.000000</td>\n",
       "    </tr>\n",
       "    <tr>\n",
       "      <th>50%</th>\n",
       "      <td>1.000000</td>\n",
       "      <td>54.000000</td>\n",
       "      <td>60000.000000</td>\n",
       "    </tr>\n",
       "    <tr>\n",
       "      <th>75%</th>\n",
       "      <td>2.000000</td>\n",
       "      <td>69.500000</td>\n",
       "      <td>80000.000000</td>\n",
       "    </tr>\n",
       "    <tr>\n",
       "      <th>max</th>\n",
       "      <td>5.000000</td>\n",
       "      <td>90.000000</td>\n",
       "      <td>160000.000000</td>\n",
       "    </tr>\n",
       "  </tbody>\n",
       "</table>\n",
       "</div>"
      ],
      "text/plain": [
       "       num_children_at_home         age    year_income\n",
       "count            171.000000  171.000000     171.000000\n",
       "mean               1.830409   53.853801   65847.953216\n",
       "std                1.023494   19.935683   37049.414283\n",
       "min                1.000000   20.000000   20000.000000\n",
       "25%                1.000000   36.000000   40000.000000\n",
       "50%                1.000000   54.000000   60000.000000\n",
       "75%                2.000000   69.500000   80000.000000\n",
       "max                5.000000   90.000000  160000.000000"
      ]
     },
     "execution_count": 130,
     "metadata": {},
     "output_type": "execute_result"
    }
   ],
   "source": [
    "# 看一下data的大概狀況 \n",
    "#df.describe()  ==> Generate various summary statistics, excluding NaN values.\n",
    "df.describe()"
   ]
  },
  {
   "cell_type": "code",
   "execution_count": 131,
   "metadata": {
    "collapsed": false
   },
   "outputs": [
    {
     "data": {
      "text/plain": [
       "num_children_at_home         5\n",
       "member_card             Silver\n",
       "age                         90\n",
       "year_income             160000\n",
       "dtype: object"
      ]
     },
     "execution_count": 131,
     "metadata": {},
     "output_type": "execute_result"
    }
   ],
   "source": [
    "df.max()"
   ]
  },
  {
   "cell_type": "code",
   "execution_count": 132,
   "metadata": {
    "collapsed": false
   },
   "outputs": [
    {
     "data": {
      "text/plain": [
       "num_children_at_home        1.830409\n",
       "age                        53.853801\n",
       "year_income             65847.953216\n",
       "dtype: float64"
      ]
     },
     "execution_count": 132,
     "metadata": {},
     "output_type": "execute_result"
    }
   ],
   "source": [
    "df.mean()"
   ]
  },
  {
   "cell_type": "code",
   "execution_count": 133,
   "metadata": {
    "collapsed": false
   },
   "outputs": [
    {
     "data": {
      "text/plain": [
       "num_children_at_home        1\n",
       "member_card             Basic\n",
       "age                        20\n",
       "year_income             20000\n",
       "dtype: object"
      ]
     },
     "execution_count": 133,
     "metadata": {},
     "output_type": "execute_result"
    }
   ],
   "source": [
    "df.min()"
   ]
  },
  {
   "cell_type": "code",
   "execution_count": 134,
   "metadata": {
    "collapsed": true
   },
   "outputs": [],
   "source": [
    "def numericTra(feature,a,b,c):\n",
    "    if feature > a:\n",
    "        return 4\n",
    "    elif a >= feature > b:\n",
    "        return 3\n",
    "    elif b>= feature > c:\n",
    "        return 2\n",
    "    elif c>= feature:\n",
    "        return 1\n",
    "# 離散化 把numeric分成四個等級 4 > (max+mean/2) > 3 > mean > 2 >(mean+min/2) > 1\n",
    "def discretization(df,filterL):\n",
    "#     import copy\n",
    "#     new_list = copy.deepcopy(filterL)\n",
    "    # mean\n",
    "    num_children_at_homeMean = df.mean()[0]\n",
    "    ageMean = df.mean()[1]\n",
    "    year_incomeMean = df.mean()[2]\n",
    "    # (mean＋max)/2\n",
    "    maxMean = (df.max()+df.mean())/2.\n",
    "    num_children_at_homeMaxMean = maxMean[2]\n",
    "    ageMaxMean = maxMean[0]\n",
    "    year_incomeMaxMean = maxMean[3]\n",
    "    # (mean＋min)/2\n",
    "    minMean = (df.mean()+df.min())/2.\n",
    "    num_children_at_homeMinMean = minMean[2]\n",
    "    ageMinMean = minMean[0]\n",
    "    year_incomeMinMean = minMean[3]\n",
    "    for ind in range(len(filterL)):\n",
    "        filterL[ind][0] = numericTra(filterL[ind][0],num_children_at_homeMaxMean,num_children_at_homeMean,num_children_at_homeMinMean)\n",
    "        filterL[ind][2] = numericTra(filterL[ind][2],ageMaxMean,year_incomeMean,ageMinMean)\n",
    "        filterL[ind][3] = numericTra(filterL[ind][3],year_incomeMaxMean,year_incomeMean,year_incomeMinMean)\n",
    "discretization(df,filterL)\n"
   ]
  },
  {
   "cell_type": "code",
   "execution_count": 135,
   "metadata": {
    "collapsed": true
   },
   "outputs": [],
   "source": [
    "# 把 label 移到feature最後  \n",
    "#附註：0是num_child，1是label(member_card)，2是age，3是income\n",
    "def createDataLabel(filterL):\n",
    "    dataSet=[]\n",
    "    for ind in range(len(filterL)):\n",
    "        dataSet.append([filterL[ind][0],filterL[ind][2],filterL[ind][3],filterL[ind][1]])\n",
    "    return dataSet"
   ]
  },
  {
   "cell_type": "code",
   "execution_count": 136,
   "metadata": {
    "collapsed": true
   },
   "outputs": [],
   "source": [
    "# 把data前處理包成一個function\n",
    "def preprocessing(datapath):\n",
    "    filterL = loadData(datapath)\n",
    "    rowname = ['num_children_at_home','member_card','age','year_income']\n",
    "    df = pd.DataFrame(filterL, columns=rowname)\n",
    "    discretization(df,filterL)\n",
    "    dataSet = createDataLabel(filterL)\n",
    "    return dataSet"
   ]
  },
  {
   "cell_type": "code",
   "execution_count": 137,
   "metadata": {
    "collapsed": true
   },
   "outputs": [],
   "source": [
    "datapath = '/Users/user/training'\n",
    "dataSetHw3 = preprocessing(datapath)"
   ]
  },
  {
   "cell_type": "code",
   "execution_count": 138,
   "metadata": {
    "collapsed": false
   },
   "outputs": [
    {
     "data": {
      "text/plain": [
       "[[1, 4, 1, 'Gold'],\n",
       " [3, 2, 1, 'Silver'],\n",
       " [1, 2, 2, 'Basic'],\n",
       " [3, 1, 3, 'Basic'],\n",
       " [3, 2, 3, 'Gold']]"
      ]
     },
     "execution_count": 138,
     "metadata": {},
     "output_type": "execute_result"
    }
   ],
   "source": [
    "dataSetHw3[:5]"
   ]
  },
  {
   "cell_type": "code",
   "execution_count": 139,
   "metadata": {
    "collapsed": true
   },
   "outputs": [],
   "source": [
    "# ---\n",
    "\n",
    "# # decision tree\n",
    "import math\n",
    "import operator"
   ]
  },
  {
   "cell_type": "code",
   "execution_count": 140,
   "metadata": {
    "collapsed": true
   },
   "outputs": [],
   "source": [
    "def createDataSet():\n",
    "    dataSet = [['a', 1, 'yes'],\n",
    "               ['a', 1, 'yes'],\n",
    "               ['a', 0, 'no'],\n",
    "               ['b', 1, 'no'],\n",
    "               ['b', 1, 'no']]\n",
    "    labels = ['no surfacing','flippers']\n",
    "    #change to discrete values\n",
    "    return dataSet, labels"
   ]
  },
  {
   "cell_type": "code",
   "execution_count": 141,
   "metadata": {
    "collapsed": true
   },
   "outputs": [],
   "source": [
    "dataSet, labels = createDataSet()"
   ]
  },
  {
   "cell_type": "code",
   "execution_count": 142,
   "metadata": {
    "collapsed": true
   },
   "outputs": [],
   "source": [
    "# 計算entropy\n",
    "def calcShannonEnt(dataSet):\n",
    "    numEntries = len(dataSet)\n",
    "    labelCounts = {}\n",
    "    for featVec in dataSet: \n",
    "        # 選擇 label\n",
    "        currentLabel = featVec[-1]\n",
    "        if currentLabel not in labelCounts.keys(): \n",
    "            labelCounts[currentLabel] = 0.\n",
    "        labelCounts[currentLabel] += 1.\n",
    "    shannonEnt = 0.\n",
    "    for key in labelCounts:\n",
    "        prob = labelCounts[key]/numEntries\n",
    "        # -P(V1)*LOG2P(V)\n",
    "        shannonEnt -= prob * math.log(prob,2) #log base 2\n",
    "    return shannonEnt"
   ]
  },
  {
   "cell_type": "code",
   "execution_count": 143,
   "metadata": {
    "collapsed": false
   },
   "outputs": [
    {
     "data": {
      "text/plain": [
       "0.9709505944546686"
      ]
     },
     "execution_count": 143,
     "metadata": {},
     "output_type": "execute_result"
    }
   ],
   "source": [
    "calcShannonEnt(dataSet)"
   ]
  },
  {
   "cell_type": "code",
   "execution_count": 144,
   "metadata": {
    "collapsed": true
   },
   "outputs": [],
   "source": [
    "def splitDataSet(dataSet, axis, value):\n",
    "    # axis 第幾個feature需要被切割 , value一樣才保留下來\n",
    "    retDataSet = []\n",
    "    for featVec in dataSet:\n",
    "        if featVec[axis] == value:\n",
    "            # pass the axis\n",
    "            reducedFeatVec = featVec[:axis]\n",
    "            reducedFeatVec.extend(featVec[axis+1:])\n",
    "            retDataSet.append(reducedFeatVec)\n",
    "    return retDataSet"
   ]
  },
  {
   "cell_type": "code",
   "execution_count": 145,
   "metadata": {
    "collapsed": false
   },
   "outputs": [
    {
     "data": {
      "text/plain": [
       "[['a', 'yes'], ['a', 'yes'], ['b', 'no'], ['b', 'no']]"
      ]
     },
     "execution_count": 145,
     "metadata": {},
     "output_type": "execute_result"
    }
   ],
   "source": [
    "splitDataSet(dataSet,1,1)"
   ]
  },
  {
   "cell_type": "code",
   "execution_count": 146,
   "metadata": {
    "collapsed": false
   },
   "outputs": [
    {
     "data": {
      "text/plain": [
       "[['a', 'no']]"
      ]
     },
     "execution_count": 146,
     "metadata": {},
     "output_type": "execute_result"
    }
   ],
   "source": [
    "splitDataSet(dataSet,1,0)"
   ]
  },
  {
   "cell_type": "code",
   "execution_count": 147,
   "metadata": {
    "collapsed": false
   },
   "outputs": [
    {
     "data": {
      "text/plain": [
       "[['a', 1, 'yes'],\n",
       " ['a', 1, 'yes'],\n",
       " ['a', 0, 'no'],\n",
       " ['b', 1, 'no'],\n",
       " ['b', 1, 'no']]"
      ]
     },
     "execution_count": 147,
     "metadata": {},
     "output_type": "execute_result"
    }
   ],
   "source": [
    "dataSet"
   ]
  },
  {
   "cell_type": "code",
   "execution_count": 148,
   "metadata": {
    "collapsed": true
   },
   "outputs": [],
   "source": [
    "def chooseBestFeatureToSplit(dataSet):\n",
    "    # 最後一欄為label\n",
    "    numFeatures = len(dataSet[0]) - 1\n",
    "    # 目前的baseEntropy\n",
    "    baseEntropy = calcShannonEnt(dataSet)\n",
    "    bestInfoGain = 0.0\n",
    "    bestFeature = -1\n",
    "    for i in range(numFeatures):        #iterate over all the features\n",
    "        # 同欄的feature併到同list\n",
    "        featList = [example[i] for example in dataSet]\n",
    "        # 取得該同list的feature集合\n",
    "        uniqueVals = set(featList)       #get a set of unique values\n",
    "        newEntropy = 0.0\n",
    "        for value in uniqueVals:\n",
    "            subDataSet = splitDataSet(dataSet, i, value)\n",
    "            prob = len(subDataSet)/float(len(dataSet))\n",
    "            newEntropy += prob * calcShannonEnt(subDataSet)     \n",
    "        infoGain = baseEntropy - newEntropy     #calculate the info gain; ie reduction in entropy\n",
    "        if (infoGain > bestInfoGain):       #compare this to the best gain so far\n",
    "            bestInfoGain = infoGain         #if better than current best, set to best\n",
    "            bestFeature = i\n",
    "    return bestFeature                      #returns an integer"
   ]
  },
  {
   "cell_type": "code",
   "execution_count": 149,
   "metadata": {
    "collapsed": true
   },
   "outputs": [],
   "source": [
    "bestFeature = chooseBestFeatureToSplit(dataSet)"
   ]
  },
  {
   "cell_type": "code",
   "execution_count": 150,
   "metadata": {
    "collapsed": false
   },
   "outputs": [
    {
     "data": {
      "text/plain": [
       "0"
      ]
     },
     "execution_count": 150,
     "metadata": {},
     "output_type": "execute_result"
    }
   ],
   "source": [
    "bestFeature"
   ]
  },
  {
   "cell_type": "code",
   "execution_count": 151,
   "metadata": {
    "collapsed": true
   },
   "outputs": [],
   "source": [
    "def majorityCnt(classList):\n",
    "    classCount={}\n",
    "    for vote in classList:\n",
    "        if vote not in classCount.keys(): classCount[vote] = 0\n",
    "        classCount[vote] += 1\n",
    "    sortedClassCount = sorted(classCount.iteritems(), key=operator.itemgetter(1), reverse=True)\n",
    "    return sortedClassCount[0][0]\n",
    "\n",
    "def createTree(dataSet,labels):\n",
    "    # 把dataSet的labels 存進 classList\n",
    "    classList = [example[-1] for example in dataSet]\n",
    "    # 當labels一樣時停止\n",
    "    if classList.count(classList[0]) == len(classList):\n",
    "        return classList[0]\n",
    "    \n",
    "    # 當沒有feature可以劃分時停止\n",
    "    if len(dataSet[0]) == 1: \n",
    "        # 挑選次數最多的label當作return value\n",
    "        return majorityCnt(classList)\n",
    "    # 選擇最佳切割的feature\n",
    "    bestFeat = chooseBestFeatureToSplit(dataSet)\n",
    "    bestFeatLabel = labels[bestFeat]\n",
    "    myTree = {bestFeatLabel:{}}\n",
    "    del(labels[bestFeat])\n",
    "    featValues = [example[bestFeat] for example in dataSet]\n",
    "    uniqueVals = set(featValues)\n",
    "    for value in uniqueVals:\n",
    "        subLabels = labels[:]       #copy all of labels, so trees don't mess up existing labels\n",
    "        myTree[bestFeatLabel][value] = createTree(splitDataSet(dataSet, bestFeat, value),subLabels)\n",
    "    return myTree"
   ]
  },
  {
   "cell_type": "code",
   "execution_count": 152,
   "metadata": {
    "collapsed": true
   },
   "outputs": [],
   "source": [
    "myTree = createTree(dataSet,labels)"
   ]
  },
  {
   "cell_type": "code",
   "execution_count": 153,
   "metadata": {
    "collapsed": false
   },
   "outputs": [
    {
     "data": {
      "text/plain": [
       "{'no surfacing': {'a': {'flippers': {0: 'no', 1: 'yes'}}, 'b': 'no'}}"
      ]
     },
     "execution_count": 153,
     "metadata": {},
     "output_type": "execute_result"
    }
   ],
   "source": [
    "myTree"
   ]
  },
  {
   "cell_type": "code",
   "execution_count": 154,
   "metadata": {
    "collapsed": true
   },
   "outputs": [],
   "source": [
    "def classify(inputTree,featLabels,testVec):\n",
    "    firstStr = inputTree.keys()[0]\n",
    "    secondDict = inputTree[firstStr]\n",
    "    featIndex = featLabels.index(firstStr)\n",
    "    key = testVec[featIndex]\n",
    "    valueOfFeat = secondDict[key]\n",
    "    if isinstance(valueOfFeat, dict): \n",
    "        classLabel = classify(valueOfFeat, featLabels, testVec)\n",
    "    else: classLabel = valueOfFeat\n",
    "    return classLabel"
   ]
  },
  {
   "cell_type": "code",
   "execution_count": 155,
   "metadata": {
    "collapsed": true
   },
   "outputs": [],
   "source": [
    "dataSet, labels = createDataSet()"
   ]
  },
  {
   "cell_type": "code",
   "execution_count": 156,
   "metadata": {
    "collapsed": false
   },
   "outputs": [
    {
     "data": {
      "text/plain": [
       "'no'"
      ]
     },
     "execution_count": 156,
     "metadata": {},
     "output_type": "execute_result"
    }
   ],
   "source": [
    "classify(myTree,labels,['a',0])"
   ]
  },
  {
   "cell_type": "code",
   "execution_count": 157,
   "metadata": {
    "collapsed": true
   },
   "outputs": [],
   "source": [
    "# ---\n",
    "# # load hw3 data"
   ]
  },
  {
   "cell_type": "code",
   "execution_count": 158,
   "metadata": {
    "collapsed": false
   },
   "outputs": [
    {
     "data": {
      "text/plain": [
       "[[1, 4, 1, 'Gold'],\n",
       " [3, 2, 1, 'Silver'],\n",
       " [1, 2, 2, 'Basic'],\n",
       " [3, 1, 3, 'Basic'],\n",
       " [3, 2, 3, 'Gold'],\n",
       " [1, 4, 2, 'Basic'],\n",
       " [1, 2, 1, 'Normal'],\n",
       " [1, 1, 1, 'Basic'],\n",
       " [1, 4, 1, 'Silver'],\n",
       " [3, 2, 1, 'Silver']]"
      ]
     },
     "execution_count": 158,
     "metadata": {},
     "output_type": "execute_result"
    }
   ],
   "source": [
    "dataSetHw3[:10]"
   ]
  },
  {
   "cell_type": "code",
   "execution_count": 159,
   "metadata": {
    "collapsed": true
   },
   "outputs": [],
   "source": [
    "labelsHw3 = ['num_children_at_home','age','year_income']"
   ]
  },
  {
   "cell_type": "code",
   "execution_count": 160,
   "metadata": {
    "collapsed": true
   },
   "outputs": [],
   "source": [
    "myTreeHw3 = createTree(dataSetHw3,labelsHw3)"
   ]
  },
  {
   "cell_type": "code",
   "execution_count": 161,
   "metadata": {
    "collapsed": false
   },
   "outputs": [
    {
     "data": {
      "text/plain": [
       "{'num_children_at_home': {1: {'year_income': {1: {'age': {1: 'Basic',\n",
       "      2: 'Basic',\n",
       "      4: 'Basic'}},\n",
       "    2: {'age': {1: 'Normal', 2: 'Basic', 4: 'Basic'}},\n",
       "    3: {'age': {1: 'Gold', 2: 'Basic', 4: 'Basic'}},\n",
       "    4: {'age': {1: 'Basic', 2: 'Basic', 4: 'Silver'}}}},\n",
       "  3: {'year_income': {1: {'age': {1: 'Gold', 2: 'Basic', 4: 'Gold'}},\n",
       "    2: {'age': {1: 'Basic', 2: 'Gold', 4: 'Gold'}},\n",
       "    3: {'age': {1: 'Gold', 2: 'Gold', 4: 'Basic'}},\n",
       "    4: {'age': {1: 'Basic', 2: 'Basic', 4: 'Basic'}}}},\n",
       "  4: {'year_income': {1: 'Gold',\n",
       "    2: {'age': {'Basic': 'Basic', 'Silver': 'Silver'}},\n",
       "    3: 'Basic',\n",
       "    4: {'age': {2: 'Gold', 4: 'Gold'}}}}}}"
      ]
     },
     "execution_count": 161,
     "metadata": {},
     "output_type": "execute_result"
    }
   ],
   "source": [
    "# tree model 建立完成\n",
    "myTreeHw3"
   ]
  },
  {
   "cell_type": "code",
   "execution_count": 162,
   "metadata": {
    "collapsed": true
   },
   "outputs": [],
   "source": [
    "# 載入 test data\n",
    "testdatapath = '/Users/user/test'\n",
    "dataSetTestHw3 = preprocessing(datapath)"
   ]
  },
  {
   "cell_type": "code",
   "execution_count": 163,
   "metadata": {
    "collapsed": true
   },
   "outputs": [],
   "source": [
    "testFeature=[]\n",
    "testAnswer=[]\n",
    "for line in range(len(dataSetTestHw3)):\n",
    "    testFeature.append(dataSetTestHw3[line][:3])\n",
    "    testAnswer.append(dataSetTestHw3[line][-1])"
   ]
  },
  {
   "cell_type": "code",
   "execution_count": 164,
   "metadata": {
    "collapsed": false
   },
   "outputs": [
    {
     "data": {
      "text/plain": [
       "[[1, 4, 1],\n",
       " [3, 2, 1],\n",
       " [1, 2, 2],\n",
       " [3, 1, 3],\n",
       " [3, 2, 3],\n",
       " [1, 4, 2],\n",
       " [1, 2, 1],\n",
       " [1, 1, 1],\n",
       " [1, 4, 1],\n",
       " [3, 2, 1],\n",
       " [3, 2, 4],\n",
       " [1, 4, 1],\n",
       " [3, 4, 3],\n",
       " [1, 1, 1],\n",
       " [4, 4, 3],\n",
       " [4, 2, 1],\n",
       " [3, 4, 1],\n",
       " [3, 2, 3],\n",
       " [3, 2, 4],\n",
       " [3, 2, 2]]"
      ]
     },
     "execution_count": 164,
     "metadata": {},
     "output_type": "execute_result"
    }
   ],
   "source": [
    "testFeature[:20]"
   ]
  },
  {
   "cell_type": "code",
   "execution_count": 165,
   "metadata": {
    "collapsed": false
   },
   "outputs": [
    {
     "data": {
      "text/plain": [
       "['Gold',\n",
       " 'Silver',\n",
       " 'Basic',\n",
       " 'Basic',\n",
       " 'Gold',\n",
       " 'Basic',\n",
       " 'Normal',\n",
       " 'Basic',\n",
       " 'Silver',\n",
       " 'Silver',\n",
       " 'Basic',\n",
       " 'Basic',\n",
       " 'Basic',\n",
       " 'Basic',\n",
       " 'Basic',\n",
       " 'Gold',\n",
       " 'Basic',\n",
       " 'Gold',\n",
       " 'Basic',\n",
       " 'Normal',\n",
       " 'Basic',\n",
       " 'Gold',\n",
       " 'Basic',\n",
       " 'Silver',\n",
       " 'Gold',\n",
       " 'Gold',\n",
       " 'Basic',\n",
       " 'Basic',\n",
       " 'Gold',\n",
       " 'Silver']"
      ]
     },
     "execution_count": 165,
     "metadata": {},
     "output_type": "execute_result"
    }
   ],
   "source": [
    "testAnswer[:30]"
   ]
  },
  {
   "cell_type": "code",
   "execution_count": 166,
   "metadata": {
    "collapsed": false,
    "scrolled": false
   },
   "outputs": [
    {
     "data": {
      "text/plain": [
       "[[1, 4, 1, 'Gold'],\n",
       " [3, 2, 1, 'Silver'],\n",
       " [1, 2, 2, 'Basic'],\n",
       " [3, 1, 3, 'Basic'],\n",
       " [3, 2, 3, 'Gold'],\n",
       " [1, 4, 2, 'Basic'],\n",
       " [1, 2, 1, 'Normal'],\n",
       " [1, 1, 1, 'Basic'],\n",
       " [1, 4, 1, 'Silver'],\n",
       " [3, 2, 1, 'Silver'],\n",
       " [3, 2, 4, 'Basic'],\n",
       " [1, 4, 1, 'Basic'],\n",
       " [3, 4, 3, 'Basic'],\n",
       " [1, 1, 1, 'Basic'],\n",
       " [4, 4, 3, 'Basic'],\n",
       " [4, 2, 1, 'Gold'],\n",
       " [3, 4, 1, 'Basic'],\n",
       " [3, 2, 3, 'Gold'],\n",
       " [3, 2, 4, 'Basic'],\n",
       " [3, 2, 2, 'Normal'],\n",
       " [3, 2, 2, 'Basic'],\n",
       " [4, 2, 1, 'Gold'],\n",
       " [1, 2, 2, 'Basic'],\n",
       " [1, 2, 1, 'Silver'],\n",
       " [3, 2, 3, 'Gold'],\n",
       " [3, 4, 1, 'Gold'],\n",
       " [1, 4, 2, 'Basic'],\n",
       " [1, 2, 2, 'Basic'],\n",
       " [4, 2, 4, 'Gold'],\n",
       " [1, 2, 2, 'Silver']]"
      ]
     },
     "execution_count": 166,
     "metadata": {},
     "output_type": "execute_result"
    }
   ],
   "source": [
    "dataSetTestHw3[:30]"
   ]
  },
  {
   "cell_type": "code",
   "execution_count": 167,
   "metadata": {
    "collapsed": true
   },
   "outputs": [],
   "source": [
    "labelsHw3 = ['num_children_at_home','age','year_income']"
   ]
  },
  {
   "cell_type": "code",
   "execution_count": 168,
   "metadata": {
    "collapsed": true
   },
   "outputs": [],
   "source": [
    "classificationsAnswer=[]\n",
    "for f in testFeature:\n",
    "    try:\n",
    "        classificationsAnswer.append(classify(myTreeHw3,labelsHw3,f))\n",
    "    except:\n",
    "        classificationsAnswer.append('Basic')"
   ]
  },
  {
   "cell_type": "code",
   "execution_count": 169,
   "metadata": {
    "collapsed": true
   },
   "outputs": [],
   "source": [
    "num = len(testAnswer)\n",
    "ans = 0\n",
    "for a,b in zip(classificationsAnswer,testAnswer):\n",
    "    if a==b:\n",
    "        ans+=1\n",
    "correctness = float(ans)/float(num)"
   ]
  },
  {
   "cell_type": "code",
   "execution_count": 170,
   "metadata": {
    "collapsed": false
   },
   "outputs": [
    {
     "data": {
      "text/plain": [
       "171"
      ]
     },
     "execution_count": 170,
     "metadata": {},
     "output_type": "execute_result"
    }
   ],
   "source": [
    "len(classificationsAnswer)"
   ]
  },
  {
   "cell_type": "code",
   "execution_count": 171,
   "metadata": {
    "collapsed": false
   },
   "outputs": [
    {
     "data": {
      "text/plain": [
       "171"
      ]
     },
     "execution_count": 171,
     "metadata": {},
     "output_type": "execute_result"
    }
   ],
   "source": [
    "len(testAnswer)"
   ]
  },
  {
   "cell_type": "code",
   "execution_count": 172,
   "metadata": {
    "collapsed": false
   },
   "outputs": [
    {
     "data": {
      "text/plain": [
       "0.5672514619883041"
      ]
     },
     "execution_count": 172,
     "metadata": {},
     "output_type": "execute_result"
    }
   ],
   "source": [
    "# 準確率 0.56%\n",
    "correctness"
   ]
  },
  {
   "cell_type": "code",
   "execution_count": 173,
   "metadata": {
    "collapsed": true
   },
   "outputs": [],
   "source": [
    "# 建立真實和分類器結果的table\n",
    "GGold=0\n",
    "GSilver=0\n",
    "GNormal=0\n",
    "GBasic=0\n",
    "\n",
    "SGold=0\n",
    "SSilver=0\n",
    "SNormal=0\n",
    "SBasic=0\n",
    "\n",
    "NGold=0\n",
    "NSilver=0\n",
    "NNormal=0\n",
    "NBasic=0\n",
    "BGold=0\n",
    "BSilver=0\n",
    "BNormal=0\n",
    "BBasic=0\n",
    "for a,b in zip(classificationsAnswer,testAnswer):\n",
    "    if b=='Gold':\n",
    "        if a=='Gold':\n",
    "            GGold+=1\n",
    "        elif a=='Silver':\n",
    "            GSilver+=1\n",
    "        elif a=='Normal':\n",
    "            GNormal+=1\n",
    "        elif a=='Basic':\n",
    "            GBasic+=1\n",
    "    elif b=='Silver':\n",
    "        if a=='Gold':\n",
    "            SGold+=1\n",
    "        elif a=='Silver':\n",
    "            SSilver+=1\n",
    "        elif a=='Normal':\n",
    "            SNormal+=1\n",
    "        elif a=='Basic':\n",
    "            SBasic+=1       \n",
    "    elif b=='Normal':\n",
    "        if a=='Gold':\n",
    "            NGold+=1\n",
    "        elif a=='Silver':\n",
    "            NSilver+=1\n",
    "        elif a=='Normal':\n",
    "            NNormal+=1\n",
    "        elif a=='Basic':\n",
    "            NBasic+=1         \n",
    "    elif b=='Basic':\n",
    "        if a=='Gold':\n",
    "            BGold+=1\n",
    "        elif a=='Silver':\n",
    "            BSilver+=1\n",
    "        elif a=='Normal':\n",
    "            BNormal+=1\n",
    "        elif a=='Basic':\n",
    "            BBasic+=1  \n",
    "corMatrix = [[GGold,GSilver,GNormal,GBasic],[SGold,SSilver,SNormal,SBasic],[NGold,NSilver,NNormal,NBasic],[BGold,BSilver,BNormal,BBasic]]\n",
    "rowname = ['Gold','Silver','Normal','Basic']\n",
    "indexname = ['True-Gold','True-Silver','True-Normal','True-Basic']\n",
    "corMatrixdf = pd.DataFrame(corMatrix, index=indexname,columns=rowname)"
   ]
  },
  {
   "cell_type": "code",
   "execution_count": 174,
   "metadata": {
    "collapsed": false
   },
   "outputs": [
    {
     "data": {
      "text/html": [
       "<div>\n",
       "<table border=\"1\" class=\"dataframe\">\n",
       "  <thead>\n",
       "    <tr style=\"text-align: right;\">\n",
       "      <th></th>\n",
       "      <th>Gold</th>\n",
       "      <th>Silver</th>\n",
       "      <th>Normal</th>\n",
       "      <th>Basic</th>\n",
       "    </tr>\n",
       "  </thead>\n",
       "  <tbody>\n",
       "    <tr>\n",
       "      <th>True-Gold</th>\n",
       "      <td>31</td>\n",
       "      <td>1</td>\n",
       "      <td>0</td>\n",
       "      <td>17</td>\n",
       "    </tr>\n",
       "    <tr>\n",
       "      <th>True-Silver</th>\n",
       "      <td>3</td>\n",
       "      <td>1</td>\n",
       "      <td>0</td>\n",
       "      <td>14</td>\n",
       "    </tr>\n",
       "    <tr>\n",
       "      <th>True-Normal</th>\n",
       "      <td>6</td>\n",
       "      <td>0</td>\n",
       "      <td>1</td>\n",
       "      <td>19</td>\n",
       "    </tr>\n",
       "    <tr>\n",
       "      <th>True-Basic</th>\n",
       "      <td>13</td>\n",
       "      <td>1</td>\n",
       "      <td>0</td>\n",
       "      <td>64</td>\n",
       "    </tr>\n",
       "  </tbody>\n",
       "</table>\n",
       "</div>"
      ],
      "text/plain": [
       "             Gold  Silver  Normal  Basic\n",
       "True-Gold      31       1       0     17\n",
       "True-Silver     3       1       0     14\n",
       "True-Normal     6       0       1     19\n",
       "True-Basic     13       1       0     64"
      ]
     },
     "execution_count": 174,
     "metadata": {},
     "output_type": "execute_result"
    }
   ],
   "source": [
    "corMatrixdf"
   ]
  },
  {
   "cell_type": "code",
   "execution_count": 175,
   "metadata": {
    "collapsed": false
   },
   "outputs": [
    {
     "data": {
      "text/plain": [
       "171"
      ]
     },
     "execution_count": 175,
     "metadata": {},
     "output_type": "execute_result"
    }
   ],
   "source": [
    "len(dataSetTestHw3)"
   ]
  },
  {
   "cell_type": "code",
   "execution_count": 176,
   "metadata": {
    "collapsed": true
   },
   "outputs": [],
   "source": [
    "s=\"\""
   ]
  },
  {
   "cell_type": "code",
   "execution_count": 177,
   "metadata": {
    "collapsed": true
   },
   "outputs": [],
   "source": [
    "def store(data,path):\n",
    "    with open(path,'w') as f:\n",
    "        f.write(data)"
   ]
  },
  {
   "cell_type": "code",
   "execution_count": 184,
   "metadata": {
    "collapsed": false
   },
   "outputs": [
    {
     "name": "stdout",
     "output_type": "stream",
     "text": [
      "[1, 4, 1, 'Gold']\n",
      "Basic\n",
      "[3, 2, 1, 'Silver']\n",
      "Basic\n",
      "[3, 1, 3, 'Basic']\n",
      "Gold\n",
      "[1, 2, 1, 'Normal']\n",
      "Basic\n",
      "[1, 4, 1, 'Silver']\n",
      "Basic\n",
      "[3, 2, 1, 'Silver']\n",
      "Basic\n",
      "[3, 4, 1, 'Basic']\n",
      "Gold\n",
      "[3, 2, 2, 'Normal']\n",
      "Gold\n",
      "[3, 2, 2, 'Basic']\n",
      "Gold\n",
      "[1, 2, 1, 'Silver']\n",
      "Basic\n",
      "[1, 2, 2, 'Silver']\n",
      "Basic\n",
      "[3, 2, 1, 'Normal']\n",
      "Basic\n",
      "[1, 2, 4, 'Gold']\n",
      "Basic\n",
      "[4, 2, 4, 'Basic']\n",
      "Gold\n",
      "[3, 2, 4, 'Gold']\n",
      "Basic\n",
      "[1, 2, 1, 'Silver']\n",
      "Basic\n",
      "[1, 2, 2, 'Silver']\n",
      "Basic\n",
      "[3, 2, 4, 'Silver']\n",
      "Basic\n",
      "[3, 4, 1, 'Basic']\n",
      "Gold\n",
      "[1, 2, 2, 'Gold']\n",
      "Basic\n",
      "[1, 1, 1, 'Normal']\n",
      "Basic\n",
      "[4, 4, 2, 'Silver']\n",
      "Basic\n",
      "[1, 2, 4, 'Normal']\n",
      "Basic\n",
      "[3, 4, 1, 'Normal']\n",
      "Gold\n",
      "[3, 2, 1, 'Normal']\n",
      "Basic\n",
      "[3, 2, 3, 'Basic']\n",
      "Gold\n",
      "[1, 2, 1, 'Normal']\n",
      "Basic\n",
      "[3, 2, 4, 'Normal']\n",
      "Basic\n",
      "[3, 1, 2, 'Normal']\n",
      "Basic\n",
      "[1, 2, 3, 'Normal']\n",
      "Basic\n",
      "[1, 1, 4, 'Silver']\n",
      "Basic\n",
      "[3, 1, 2, 'Gold']\n",
      "Basic\n",
      "[3, 4, 1, 'Normal']\n",
      "Gold\n",
      "[1, 1, 1, 'Gold']\n",
      "Basic\n",
      "[3, 4, 2, 'Basic']\n",
      "Gold\n",
      "[1, 1, 1, 'Silver']\n",
      "Basic\n",
      "[3, 1, 2, 'Gold']\n",
      "Basic\n",
      "[3, 1, 1, 'Basic']\n",
      "Gold\n",
      "[1, 4, 1, 'Normal']\n",
      "Basic\n",
      "[1, 2, 1, 'Normal']\n",
      "Basic\n",
      "[1, 1, 1, 'Normal']\n",
      "Basic\n",
      "[1, 1, 3, 'Silver']\n",
      "Gold\n",
      "[1, 1, 3, 'Basic']\n",
      "Gold\n",
      "[3, 4, 1, 'Basic']\n",
      "Gold\n",
      "[1, 2, 4, 'Gold']\n",
      "Basic\n",
      "[1, 1, 1, 'Normal']\n",
      "Basic\n",
      "[3, 2, 2, 'Silver']\n",
      "Gold\n",
      "[3, 1, 1, 'Normal']\n",
      "Gold\n",
      "[1, 2, 2, 'Normal']\n",
      "Basic\n",
      "[1, 2, 3, 'Silver']\n",
      "Basic\n",
      "[1, 4, 3, 'Gold']\n",
      "Basic\n",
      "[1, 4, 4, 'Gold']\n",
      "Silver\n",
      "[3, 2, 1, 'Normal']\n",
      "Basic\n",
      "[1, 2, 3, 'Silver']\n",
      "Basic\n",
      "[1, 4, 2, 'Gold']\n",
      "Basic\n",
      "[1, 1, 1, 'Gold']\n",
      "Basic\n",
      "[1, 2, 4, 'Gold']\n",
      "Basic\n",
      "[3, 4, 1, 'Basic']\n",
      "Gold\n",
      "[1, 2, 3, 'Gold']\n",
      "Basic\n",
      "[1, 2, 1, 'Normal']\n",
      "Basic\n",
      "[1, 2, 1, 'Silver']\n",
      "Basic\n",
      "[3, 2, 4, 'Gold']\n",
      "Basic\n",
      "[3, 2, 1, 'Normal']\n",
      "Basic\n",
      "[3, 2, 1, 'Normal']\n",
      "Basic\n",
      "[3, 4, 1, 'Normal']\n",
      "Gold\n",
      "[3, 2, 1, 'Gold']\n",
      "Basic\n",
      "[3, 1, 1, 'Basic']\n",
      "Gold\n",
      "[1, 1, 3, 'Basic']\n",
      "Gold\n",
      "[3, 2, 3, 'Normal']\n",
      "Gold\n",
      "[1, 1, 1, 'Gold']\n",
      "Basic\n",
      "[1, 4, 4, 'Basic']\n",
      "Silver\n",
      "[1, 2, 1, 'Normal']\n",
      "Basic\n",
      "[3, 2, 1, 'Gold']\n",
      "Basic\n",
      "[3, 1, 1, 'Silver']\n",
      "Gold\n"
     ]
    }
   ],
   "source": [
    "########  OutPut\n",
    "import json\n",
    "Output = []\n",
    "\n",
    "for i in range(len(dataSetTestHw3)):\n",
    "    if(classificationsAnswer[i]==testAnswer[i]):\n",
    "        a =\"  Correct!!\"\n",
    "    else:\n",
    "        a=\"   Not  Q__Q\"\n",
    "        print(dataSetTestHw3[i])\n",
    "        print(classificationsAnswer[i])\n",
    "    s = str(dataSetTestHw3[i])+\"  we predict--> \"+str(classificationsAnswer[i])+a\n",
    "    Output.append(s)\n",
    "Output_json = json.dumps(Output,indent=4)\n",
    "store(Output_json,'/Users/user/Desktop/Output.json')"
   ]
  },
  {
   "cell_type": "code",
   "execution_count": 118,
   "metadata": {
    "collapsed": false
   },
   "outputs": [],
   "source": [
    "#classificationsAnswer,testAnswer"
   ]
  },
  {
   "cell_type": "code",
   "execution_count": null,
   "metadata": {
    "collapsed": true
   },
   "outputs": [],
   "source": []
  }
 ],
 "metadata": {
  "kernelspec": {
   "display_name": "Python 2",
   "language": "python",
   "name": "python2"
  },
  "language_info": {
   "codemirror_mode": {
    "name": "ipython",
    "version": 2
   },
   "file_extension": ".py",
   "mimetype": "text/x-python",
   "name": "python",
   "nbconvert_exporter": "python",
   "pygments_lexer": "ipython2",
   "version": "2.7.11"
  }
 },
 "nbformat": 4,
 "nbformat_minor": 0
}
