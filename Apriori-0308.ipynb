{
 "cells": [
  {
   "cell_type": "code",
   "execution_count": 153,
   "metadata": {
    "collapsed": false
   },
   "outputs": [],
   "source": [
    "from numpy import *\n",
    "import json\n",
    "import datetime\n",
    "import numpy as np  \n",
    "\n",
    "linlist = []"
   ]
  },
  {
   "cell_type": "code",
   "execution_count": 154,
   "metadata": {
    "collapsed": false
   },
   "outputs": [],
   "source": [
    "#讀檔2 目前沒用到\n",
    "def readDataFile(file_name):\n",
    "    dataFile = open(file_name)          #開檔\n",
    "    lines = dataFile.read().split('\\n') #每行分開，存到lines， lines下面會用到\n",
    "    dataFile.close()                    #讀完關掉\n",
    "    \n",
    "    for i in range(len(lines)):             #lines有幾行就做幾次\n",
    "        record = lines[i].split(' ')        #用' '分開空格\n",
    "        print record[:-1]                   #print出來看看\n",
    "        for j in range(len(record)-1):      #最後會有一個莫名其妙的空值 故用len(record)-1修正矩陣長度-1\n",
    "            coord[i][j]=coord[i][record[j]] #匯入coord 我們最後回傳的矩陣就是coord\n",
    "    return coord                            #回傳coord"
   ]
  },
  {
   "cell_type": "code",
   "execution_count": 155,
   "metadata": {
    "collapsed": false
   },
   "outputs": [],
   "source": [
    "#讀檔\n",
    "def readDataFile(file_name,linlist):\n",
    "    dataFile = open(file_name)          #開檔\n",
    "    lines = dataFile.read().split('\\n') #每行分開，存到lines， lines下面會用到\n",
    "    dataFile.close()                    #讀完關掉\n",
    "    \n",
    "    for i in range(len(lines)-1):                   #lines有幾行就做幾次\n",
    "        linlist.append(map(int, lines[i].split()))  #用map會直接轉成int格式! 並且分開每個數值\n",
    "    return linlist                                  #回傳linlist "
   ]
  },
  {
   "cell_type": "code",
   "execution_count": 156,
   "metadata": {
    "collapsed": false
   },
   "outputs": [],
   "source": [
    "gj=readDataFile('input.txt',linlist)     #將此二維陣列存到gj 等等直接呼叫"
   ]
  },
  {
   "cell_type": "code",
   "execution_count": 158,
   "metadata": {
    "collapsed": true
   },
   "outputs": [],
   "source": [
    "def createC1(dataSet):\n",
    "    C1 = [] #C1是大小為1的所有候選集的集合\n",
    "    for transaction in dataSet:\n",
    "        for item in transaction:\n",
    "            if not [item] in C1:\n",
    "                C1.append([item])             \n",
    "    C1.sort()\n",
    "    return map(frozenset, C1)#use frozen set so we can use it as a key in a dict    "
   ]
  },
  {
   "cell_type": "code",
   "execution_count": 159,
   "metadata": {
    "collapsed": true
   },
   "outputs": [],
   "source": [
    "#D表示DataSet，CK表示候選集，minSupport表示最小的支持度，自己設定\n",
    "def scanD(D, Ck, minSupport):\n",
    "    ssCnt = {}\n",
    "    for tid in D:\n",
    "        for can in Ck:\n",
    "            if can.issubset(tid):\n",
    "                if not ssCnt.has_key(can): ssCnt[can]=1\n",
    "                else: ssCnt[can] += 1\n",
    "    numItems = float(len(D))\n",
    "    retList = [] #儲存满足最小支持度要求的項集\n",
    "    supportData = {} #每個項集的支持度字典\n",
    "    for key in ssCnt:  #計算所有項集的支持度\n",
    "        support = ssCnt[key]/numItems\n",
    "        if support >= minSupport:\n",
    "            retList.insert(0,key)\n",
    "        supportData[key] = support\n",
    "    return retList, supportData"
   ]
  },
  {
   "cell_type": "code",
   "execution_count": 160,
   "metadata": {
    "collapsed": true
   },
   "outputs": [],
   "source": [
    "#LK是頻繁項集列表，K表示接下來合併的項集中的單個想的個數 {1,2,3} 表示k=3\n",
    "def aprioriGen(Lk, k): #creates Ck\n",
    "    retList = []\n",
    "    lenLk = len(Lk)\n",
    "    for i in range(lenLk):\n",
    "        for j in range(i+1, lenLk): \n",
    "            L1 = list(Lk[i])[:k-2]; L2 = list(Lk[j])[:k-2] #前k-2個項次相同時，將兩個集合合併\n",
    "            L1.sort(); L2.sort()\n",
    "            if L1==L2: #if first k-2 elements are equal\n",
    "                retList.append(Lk[i] | Lk[j]) #set union\n",
    "    return retList "
   ]
  },
  {
   "cell_type": "code",
   "execution_count": 161,
   "metadata": {
    "collapsed": true
   },
   "outputs": [],
   "source": [
    "#只需要输入DataSet和minSupport即可\n",
    "def apriori(dataSet, minSupport = 0.3):\n",
    "    C1 = createC1(dataSet)\n",
    "    D = map(set, dataSet)\n",
    "    L1, supportData = scanD(D, C1, minSupport)\n",
    "    L = [L1]\n",
    "    k = 2\n",
    "    while (len(L[k-2]) > 0):\n",
    "        Ck = aprioriGen(L[k-2], k)\n",
    "        Lk, supK = scanD(D, Ck, minSupport)#scan DB to get Lk\n",
    "        supportData.update(supK)\n",
    "        L.append(Lk)\n",
    "        k += 1\n",
    "    return L, supportData#返回頻繁項集和每個項集的minSupport"
   ]
  },
  {
   "cell_type": "code",
   "execution_count": 162,
   "metadata": {
    "collapsed": true
   },
   "outputs": [],
   "source": [
    "#輸入的參數分別為：頻繁項、support data dict、自定義的minSupport，返回的是Confidence Rule列表\n",
    "def generateRules(L, supportData, minConf=0.1):  #支持度是通過scanD得到的字典\n",
    "    bigRuleList = []\n",
    "    for i in range(1, len(L)):#只去頻繁項集中元素個数大於2的子集，如{1,2}{1,2,3}，不取{2}{3},etc...\n",
    "        for freqSet in L[i]:\n",
    "            H1 = [frozenset([item]) for item in freqSet]\n",
    "            if (i > 1):\n",
    "                rulesFromConseq(freqSet, H1, supportData, bigRuleList, minConf)\n",
    "            else:\n",
    "                calcConf(freqSet, H1, supportData, bigRuleList, minConf)\n",
    "    return bigRuleList         "
   ]
  },
  {
   "cell_type": "code",
   "execution_count": 163,
   "metadata": {
    "collapsed": true
   },
   "outputs": [],
   "source": [
    "#計算可信度，找到滿足minConfidence的要求規則\n",
    "def calcConf(freqSet, H, supportData, brl, minConf=0.2):\n",
    "    prunedH = [] #create new list to return\n",
    "    for conseq in H:\n",
    "        conf = supportData[freqSet]/supportData[freqSet-conseq] #calc confidence\n",
    "        if conf >= minConf: \n",
    "            print freqSet-conseq,'-->',conseq,'conf:',conf\n",
    "            brl.append((freqSet-conseq, conseq, conf))\n",
    "            prunedH.append(conseq)\n",
    "    return prunedH"
   ]
  },
  {
   "cell_type": "code",
   "execution_count": 164,
   "metadata": {
    "collapsed": true
   },
   "outputs": [],
   "source": [
    "#從最初的項集中生成更多的規則\n",
    "def rulesFromConseq(freqSet, H, supportData, brl, minConf=0.2):   #預設minConf=0.2 可由使用者呼叫時直接調整\n",
    "    m = len(H[0])\n",
    "    if (len(freqSet) > (m + 1)): #進一步合併項集\n",
    "        Hmp1 = aprioriGen(H, m+1)#create Hm+1 new candidates\n",
    "        Hmp1 = calcConf(freqSet, Hmp1, supportData, brl, minConf)\n",
    "        if (len(Hmp1) > 1):    #need at least two sets to merge\n",
    "            rulesFromConseq(freqSet, Hmp1, supportData, brl, minConf)"
   ]
  },
  {
   "cell_type": "code",
   "execution_count": 166,
   "metadata": {
    "collapsed": false
   },
   "outputs": [
    {
     "data": {
      "text/plain": [
       "[(frozenset({78}), frozenset({39}), 0.7446808510638298),\n",
       " (frozenset({3981}), frozenset({39}), 0.810810810810811),\n",
       " (frozenset({2958}), frozenset({48}), 0.8043478260869564),\n",
       " (frozenset({334}), frozenset({39}), 0.7916666666666667),\n",
       " (frozenset({110}), frozenset({38}), 0.9685863874345548),\n",
       " (frozenset({281}), frozenset({38}), 0.9677419354838711),\n",
       " (frozenset({37}), frozenset({38}), 1.0),\n",
       " (frozenset({255}), frozenset({48}), 0.7592592592592593),\n",
       " (frozenset({105}), frozenset({38}), 0.9268292682926829),\n",
       " (frozenset({1146}), frozenset({39}), 0.7076923076923077),\n",
       " (frozenset({49}), frozenset({48}), 0.7681159420289855),\n",
       " (frozenset({79}), frozenset({39}), 0.7096774193548387),\n",
       " (frozenset({170}), frozenset({38}), 0.9791666666666666),\n",
       " (frozenset({47}), frozenset({38}), 0.9705882352941176),\n",
       " (frozenset({36}), frozenset({38}), 0.9427083333333334),\n",
       " (frozenset({840}), frozenset({38}), 0.96875),\n",
       " (frozenset({55}), frozenset({38}), 0.868421052631579),\n",
       " (frozenset({175}), frozenset({39}), 0.7045454545454545),\n",
       " (frozenset({790}), frozenset({38}), 1.0),\n",
       " (frozenset({249}), frozenset({39}), 0.7230769230769232),\n",
       " (frozenset({225}), frozenset({39}), 0.7005649717514124),\n",
       " (frozenset({371}), frozenset({38}), 1.0),\n",
       " (frozenset({1956}), frozenset({48}), 0.8),\n",
       " (frozenset({78}), frozenset({48}), 0.7234042553191489),\n",
       " (frozenset({41}), frozenset({39}), 0.7487821851078637),\n",
       " (frozenset({2238}), frozenset({39}), 0.7582417582417583),\n",
       " (frozenset({272}), frozenset({39}), 0.7454545454545455),\n",
       " (frozenset({2374}), frozenset({39}), 0.7551020408163265),\n",
       " (frozenset({105}), frozenset({39}), 0.7317073170731708),\n",
       " (frozenset({479}), frozenset({39}), 0.7636363636363637),\n",
       " (frozenset({286}), frozenset({38}), 0.9565217391304347),\n",
       " (frozenset({105}), frozenset({38, 39}), 0.7073170731707318),\n",
       " (frozenset({41, 110}), frozenset({38, 39}), 0.8235294117647058),\n",
       " (frozenset({41, 170}), frozenset({38, 39}), 0.7831325301204819),\n",
       " (frozenset({48, 110}), frozenset({38, 39}), 0.7840909090909091),\n",
       " (frozenset({36, 48}), frozenset({38, 39}), 0.7058823529411765),\n",
       " (frozenset({37, 39}), frozenset({38, 48}), 0.7000000000000001),\n",
       " (frozenset({37, 48}), frozenset({38, 39}), 0.736842105263158),\n",
       " (frozenset({36, 41}), frozenset({38, 39}), 0.7435897435897436),\n",
       " (frozenset({41, 48, 110}), frozenset({38, 39}), 0.9000000000000001),\n",
       " (frozenset({36, 41, 48}), frozenset({38, 39}), 0.7894736842105264),\n",
       " (frozenset({41, 48, 170}), frozenset({38, 39}), 0.7659574468085106)]"
      ]
     },
     "execution_count": 166,
     "metadata": {},
     "output_type": "execute_result"
    }
   ],
   "source": [
    "rule"
   ]
  },
  {
   "cell_type": "code",
   "execution_count": 167,
   "metadata": {
    "collapsed": false
   },
   "outputs": [
    {
     "name": "stdout",
     "output_type": "stream",
     "text": [
      "frozenset([39]) --> frozenset([41]) conf: 0.225239269857\n",
      "frozenset([41]) --> frozenset([39]) conf: 0.763733690197\n",
      "frozenset([39]) --> frozenset([48]) conf: 0.575076467686\n",
      "frozenset([48]) --> frozenset([39]) conf: 0.691634033464\n",
      "frozenset([39]) --> frozenset([38]) conf: 0.204144055254\n",
      "frozenset([38]) --> frozenset([39]) conf: 0.663311105412\n",
      "frozenset([41]) --> frozenset([48]) conf: 0.603412512546\n",
      "frozenset([48]) --> frozenset([41]) conf: 0.214026343895\n"
     ]
    }
   ],
   "source": [
    "#正式的\n",
    "start = datetime.datetime.now() #紀錄時間\n",
    " \n",
    "L,supportData = apriori(gj,0.1)           #執行apriori  minimum support =0.1   輸出存到 L supportData\n",
    "rule = generateRules(L,supportData,0.2)   #generateRules  一樣 存到rule\n",
    "\n",
    "end = datetime.datetime.now()   #程式運行結束時間\n",
    "runtime = end - start           #計算runtime=end-start"
   ]
  },
  {
   "cell_type": "code",
   "execution_count": 168,
   "metadata": {
    "collapsed": false
   },
   "outputs": [
    {
     "data": {
      "text/plain": [
       "datetime.timedelta(0, 168, 196000)"
      ]
     },
     "execution_count": 168,
     "metadata": {},
     "output_type": "execute_result"
    }
   ],
   "source": [
    "runtime"
   ]
  },
  {
   "cell_type": "code",
   "execution_count": 169,
   "metadata": {
    "collapsed": true
   },
   "outputs": [],
   "source": [
    "def store(data,path):\n",
    "    with open(path,'w') as f:\n",
    "        f.write(data)"
   ]
  },
  {
   "cell_type": "code",
   "execution_count": 170,
   "metadata": {
    "collapsed": true
   },
   "outputs": [],
   "source": [
    "freItem_list = []\n",
    "for tmp in L:\n",
    "    if len(tmp) !=0:\n",
    "        for item in tmp:\n",
    "            freItem_list.append(list(item))\n",
    "freItem_json = json.dumps(freItem_list,indent=4)\n",
    "store(freItem_json,'/Users/user/Desktop/freItem.json')"
   ]
  },
  {
   "cell_type": "code",
   "execution_count": 171,
   "metadata": {
    "collapsed": false
   },
   "outputs": [
    {
     "data": {
      "text/plain": [
       "[[41], [39], [32], [38], [48], [41, 39], [48, 39], [38, 39], [48, 41]]"
      ]
     },
     "execution_count": 171,
     "metadata": {},
     "output_type": "execute_result"
    }
   ],
   "source": [
    "freItem_list"
   ]
  },
  {
   "cell_type": "code",
   "execution_count": 172,
   "metadata": {
    "collapsed": false
   },
   "outputs": [],
   "source": [
    "supportData_list = []\n",
    "for key, value in supportData.iteritems():\n",
    "    s = str(list(key))+':'+str(value)\n",
    "    supportData_list.append(s)\n",
    "supportData_list.sort()\n",
    "supportData_json = json.dumps(supportData_list,indent=4)\n",
    "store(supportData_json,'/Users/user/Desktop/supportData.json')"
   ]
  },
  {
   "cell_type": "code",
   "execution_count": 173,
   "metadata": {
    "collapsed": false
   },
   "outputs": [],
   "source": [
    "strongRule = []\n",
    "for tmp in rule:\n",
    "    s = str(list(tmp[0])[0])+'-->'+str(list(tmp[1])[0])+'---'+str(tmp[2])\n",
    "    strongRule.append(s)\n",
    "strongRule_json = json.dumps(strongRule,indent=4)\n",
    "store(strongRule_json,'/Users/user/Desktop/strongRule.json')"
   ]
  },
  {
   "cell_type": "code",
   "execution_count": 174,
   "metadata": {
    "collapsed": false
   },
   "outputs": [
    {
     "data": {
      "text/plain": [
       "['39-->41---0.225239269857',\n",
       " '41-->39---0.763733690197',\n",
       " '39-->48---0.575076467686',\n",
       " '48-->39---0.691634033464',\n",
       " '39-->38---0.204144055254',\n",
       " '38-->39---0.663311105412',\n",
       " '41-->48---0.603412512546',\n",
       " '48-->41---0.214026343895']"
      ]
     },
     "execution_count": 174,
     "metadata": {},
     "output_type": "execute_result"
    }
   ],
   "source": [
    "strongRule"
   ]
  }
 ],
 "metadata": {
  "kernelspec": {
   "display_name": "Python 2",
   "language": "python",
   "name": "python2"
  },
  "language_info": {
   "codemirror_mode": {
    "name": "ipython",
    "version": 2
   },
   "file_extension": ".py",
   "mimetype": "text/x-python",
   "name": "python",
   "nbconvert_exporter": "python",
   "pygments_lexer": "ipython2",
   "version": "2.7.11"
  }
 },
 "nbformat": 4,
 "nbformat_minor": 0
}
